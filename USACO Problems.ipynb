{
 "cells": [
  {
   "cell_type": "code",
   "execution_count": 3,
   "metadata": {},
   "outputs": [
    {
     "name": "stdout",
     "output_type": "stream",
     "text": [
      "967\n",
      "972\n",
      "973\n",
      "988\n",
      "997\n",
      "1018\n",
      "1021\n",
      "1022\n",
      "1042\n",
      "1043\n",
      "1044\n",
      "1045\n",
      "1059\n",
      "1063\n",
      "1065\n",
      "1066\n",
      "1067\n",
      "1069\n",
      "1070\n",
      "1092\n",
      "1093\n",
      "1108\n",
      "1110\n",
      "1113\n",
      "1114\n",
      "1115\n",
      "1116\n",
      "1117\n",
      "1118\n",
      "1133\n",
      "1135\n",
      "1137\n",
      "1138\n",
      "1139\n",
      "1140\n",
      "1141\n",
      "1142\n",
      "1160\n",
      "1161\n",
      "1164\n",
      "1165\n",
      "1185\n",
      "1186\n",
      "1188\n",
      "1190\n",
      "1204\n",
      "1206\n",
      "1209\n",
      "1210\n",
      "1213\n",
      "1230\n",
      "1233\n",
      "1234\n",
      "1236\n",
      "1253\n",
      "1259\n",
      "1260\n",
      "1261\n",
      "1262\n",
      "1278\n",
      "1279\n",
      "1281\n",
      "1282\n",
      "1283\n",
      "1284\n",
      "1285\n",
      "1286\n"
     ]
    }
   ],
   "source": [
    "import requests\n",
    "from bs4 import BeautifulSoup\n",
    "import re\n",
    "from collections import defaultdict\n",
    "\n",
    "id_to_probs = {}\n",
    "\n",
    "for pid in range(900, 1300):\n",
    "\turl = f'http://www.usaco.org/index.php?page=viewproblem2&cpid={pid}'\n",
    "\tsrc = requests.get(url)\n",
    "\tsoup = BeautifulSoup(src.text)\n",
    "\th2s = soup.find_all('h2')\n",
    "\tif len(h2s) != 2:\n",
    "\t\tcontinue # not a valid problem\n",
    "\tcontest = h2s[0].text\n",
    "\tcontest = contest.strip().split()[1:]\n",
    "\tcontest.pop(-2)\n",
    "\tdivision = contest[-1]\n",
    "\tcontest = \" \".join(contest[:-1])\n",
    "\ttitle = h2s[1].text.strip()[len('Problem 1. '):]\n",
    "\tcreds = soup.find_all(string=re.compile('Problem credits'))[0]\n",
    "\tcreds = creds[len('Problem credits: '):].strip()\n",
    "\tif \"Benjamin Qi\" in creds:\n",
    "\t\tprint(pid)\n",
    "\t\tid_to_probs[pid] = dict(division=division, contest=contest, title=title, url=url, creds=creds)"
   ]
  },
  {
   "cell_type": "code",
   "execution_count": 4,
   "metadata": {},
   "outputs": [],
   "source": [
    "import json\n",
    "\n",
    "json.dump(id_to_probs, open('id_to_probs.json', 'w'), indent=2)"
   ]
  },
  {
   "cell_type": "code",
   "execution_count": 7,
   "metadata": {},
   "outputs": [
    {
     "name": "stdout",
     "output_type": "stream",
     "text": [
      "## [USA Computing Olympiad](http://www.usaco.org/)\n",
      "**Total:** 67\n",
      "\n",
      "### Bronze\n",
      "**Total:** 6\n",
      " - [2020 January: Photoshoot](http://www.usaco.org/index.php?page=viewproblem2&cpid=988) (Benjamin Qi and Chris Zhang)\n",
      " - [2020 December: Do You Know Your ABCs?](http://www.usaco.org/index.php?page=viewproblem2&cpid=1059) (Benjamin Qi)\n",
      " - [2021 February: Comfortable Cows](http://www.usaco.org/index.php?page=viewproblem2&cpid=1108) (Benjamin Qi)\n",
      " - [2021 US Open: Acowdemia III](http://www.usaco.org/index.php?page=viewproblem2&cpid=1133) (Benjamin Qi)\n",
      " - [2022 February: Photoshoot 2](http://www.usaco.org/index.php?page=viewproblem2&cpid=1204) (Benjamin Qi)\n",
      " - [2022 December: Reverse Engineering](http://www.usaco.org/index.php?page=viewproblem2&cpid=1253) (Benjamin Qi)\n",
      "\n",
      "### Silver\n",
      "**Total:** 9\n",
      " - [2019 December: Meetings](http://www.usaco.org/index.php?page=viewproblem2&cpid=967) (Benjamin Qi)\n",
      " - [2020 December: Rectangular Pasture](http://www.usaco.org/index.php?page=viewproblem2&cpid=1063) (Benjamin Qi)\n",
      " - [2021 February: Comfortable Cows](http://www.usaco.org/index.php?page=viewproblem2&cpid=1110) (Benjamin Qi)\n",
      " - [2021 US Open: Do You Know Your ABCs?](http://www.usaco.org/index.php?page=viewproblem2&cpid=1135) (Benjamin Qi)\n",
      " - [2021 December: Convoluted Intervals](http://www.usaco.org/index.php?page=viewproblem2&cpid=1160) (Benjamin Qi)\n",
      " - [2022 February: Redistributing Gifts](http://www.usaco.org/index.php?page=viewproblem2&cpid=1206) (Benjamin Qi)\n",
      " - [2022 US Open: Visits](http://www.usaco.org/index.php?page=viewproblem2&cpid=1230) (Benjamin Qi and Michael Cao)\n",
      " - [2023 January: Find and Replace](http://www.usaco.org/index.php?page=viewproblem2&cpid=1278) (Benjamin Qi)\n",
      " - [2023 January: Following Directions](http://www.usaco.org/index.php?page=viewproblem2&cpid=1279) (Benjamin Qi)\n",
      "\n",
      "### Gold\n",
      "**Total:** 23\n",
      " - [2020 February: Help Yourself](http://www.usaco.org/index.php?page=viewproblem2&cpid=1018) (Benjamin Qi)\n",
      " - [2020 US Open: Favorite Colors](http://www.usaco.org/index.php?page=viewproblem2&cpid=1042) (William Lin and Benjamin Qi)\n",
      " - [2020 US Open: Exercise](http://www.usaco.org/index.php?page=viewproblem2&cpid=1043) (Benjamin Qi)\n",
      " - [2020 December: Replication](http://www.usaco.org/index.php?page=viewproblem2&cpid=1065) (Benjamin Qi)\n",
      " - [2020 December: Bovine Genetics](http://www.usaco.org/index.php?page=viewproblem2&cpid=1066) (Benjamin Qi)\n",
      " - [2020 December: Square Pasture](http://www.usaco.org/index.php?page=viewproblem2&cpid=1067) (Benjamin Qi)\n",
      " - [2021 February: Stone Game](http://www.usaco.org/index.php?page=viewproblem2&cpid=1113) (Benjamin Qi)\n",
      " - [2021 February: Modern Art 3](http://www.usaco.org/index.php?page=viewproblem2&cpid=1114) (Brian Dean and Benjamin Qi)\n",
      " - [2021 February: Count the Cows](http://www.usaco.org/index.php?page=viewproblem2&cpid=1115) (Benjamin Qi)\n",
      " - [2021 US Open: United Cows of Farmer John](http://www.usaco.org/index.php?page=viewproblem2&cpid=1137) (Benjamin Qi)\n",
      " - [2021 US Open: Portals](http://www.usaco.org/index.php?page=viewproblem2&cpid=1138) (Benjamin Qi)\n",
      " - [2021 US Open: Permutation](http://www.usaco.org/index.php?page=viewproblem2&cpid=1139) (Benjamin Qi)\n",
      " - [2021 December: Paired Up](http://www.usaco.org/index.php?page=viewproblem2&cpid=1161) (Benjamin Qi)\n",
      " - [2022 January: Drought](http://www.usaco.org/index.php?page=viewproblem2&cpid=1185) (Arpan Banerjee and Benjamin Qi)\n",
      " - [2022 January: Farm Updates](http://www.usaco.org/index.php?page=viewproblem2&cpid=1186) (Benjamin Qi)\n",
      " - [2022 February: Redistributing Gifts](http://www.usaco.org/index.php?page=viewproblem2&cpid=1209) (Benjamin Qi)\n",
      " - [2022 February: Cow Camp](http://www.usaco.org/index.php?page=viewproblem2&cpid=1210) (Benjamin Qi)\n",
      " - [2022 US Open: Apple Catching](http://www.usaco.org/index.php?page=viewproblem2&cpid=1233) (Benjamin Qi)\n",
      " - [2022 US Open: Pair Programming](http://www.usaco.org/index.php?page=viewproblem2&cpid=1234) (Benjamin Qi)\n",
      " - [2022 December: Strongest Friendship Group](http://www.usaco.org/index.php?page=viewproblem2&cpid=1259) (Benjamin Qi)\n",
      " - [2023 January: Find and Replace](http://www.usaco.org/index.php?page=viewproblem2&cpid=1281) (Benjamin Qi)\n",
      " - [2023 January: Lights Off](http://www.usaco.org/index.php?page=viewproblem2&cpid=1282) (William Yue, Eric Yang, and Benjamin Qi)\n",
      " - [2023 January: Moo Route](http://www.usaco.org/index.php?page=viewproblem2&cpid=1283) (Brandon Wang, Claire Zhang, and Benjamin Qi)\n",
      "\n",
      "### Platinum\n",
      "**Total:** 29\n",
      " - [2019 December: Greedy Pie Eaters](http://www.usaco.org/index.php?page=viewproblem2&cpid=972) (Benjamin Qi)\n",
      " - [2019 December: Bessie's Snow Cow](http://www.usaco.org/index.php?page=viewproblem2&cpid=973) (Michael Cao and Benjamin Qi)\n",
      " - [2020 January: Non-Decreasing Subsequences](http://www.usaco.org/index.php?page=viewproblem2&cpid=997) (Benjamin Qi)\n",
      " - [2020 February: Equilateral Triangles](http://www.usaco.org/index.php?page=viewproblem2&cpid=1021) (Benjamin Qi)\n",
      " - [2020 February: Help Yourself](http://www.usaco.org/index.php?page=viewproblem2&cpid=1022) (Benjamin Qi)\n",
      " - [2020 US Open: Sprinklers 2: Return of the Alfalfa](http://www.usaco.org/index.php?page=viewproblem2&cpid=1044) (Benjamin Qi)\n",
      " - [2020 US Open: Exercise](http://www.usaco.org/index.php?page=viewproblem2&cpid=1045) (Benjamin Qi)\n",
      " - [2020 December: Spaceship](http://www.usaco.org/index.php?page=viewproblem2&cpid=1069) (Benjamin Qi)\n",
      " - [2020 December: Cowmistry](http://www.usaco.org/index.php?page=viewproblem2&cpid=1070) (Benjamin Qi)\n",
      " - [2021 January: Sum of Distances](http://www.usaco.org/index.php?page=viewproblem2&cpid=1092) (Benjamin Qi)\n",
      " - [2021 January: Minimum Cost Paths](http://www.usaco.org/index.php?page=viewproblem2&cpid=1093) (Benjamin Qi)\n",
      " - [2021 February: No Time to Dry](http://www.usaco.org/index.php?page=viewproblem2&cpid=1116) (Andi Qu, Brian Dean, and Benjamin Qi)\n",
      " - [2021 February: Minimizing Edges](http://www.usaco.org/index.php?page=viewproblem2&cpid=1117) (Benjamin Qi)\n",
      " - [2021 February: Counting Graphs](http://www.usaco.org/index.php?page=viewproblem2&cpid=1118) (Benjamin Qi)\n",
      " - [2021 US Open: United Cows of Farmer John](http://www.usaco.org/index.php?page=viewproblem2&cpid=1140) (Benjamin Qi)\n",
      " - [2021 US Open: Routing Schemes](http://www.usaco.org/index.php?page=viewproblem2&cpid=1141) (Benjamin Qi)\n",
      " - [2021 US Open: Balanced Subsets](http://www.usaco.org/index.php?page=viewproblem2&cpid=1142) (Benjamin Qi)\n",
      " - [2021 December: Tickets](http://www.usaco.org/index.php?page=viewproblem2&cpid=1164) (Benjamin Qi)\n",
      " - [2021 December: Paired Up](http://www.usaco.org/index.php?page=viewproblem2&cpid=1165) (Benjamin Qi)\n",
      " - [2022 January: Minimizing Haybales](http://www.usaco.org/index.php?page=viewproblem2&cpid=1188) (Daniel Zhang and Benjamin Qi)\n",
      " - [2022 January: Multiple Choice Test](http://www.usaco.org/index.php?page=viewproblem2&cpid=1190) (Benjamin Qi)\n",
      " - [2022 February: Sleeping in Class](http://www.usaco.org/index.php?page=viewproblem2&cpid=1213) (Jesse Choe and Benjamin Qi)\n",
      " - [2022 US Open: 262144 Revisited](http://www.usaco.org/index.php?page=viewproblem2&cpid=1236) (Benjamin Qi)\n",
      " - [2022 December: Breakdown](http://www.usaco.org/index.php?page=viewproblem2&cpid=1260) (Benjamin Qi)\n",
      " - [2022 December: Making Friends](http://www.usaco.org/index.php?page=viewproblem2&cpid=1261) (Benjamin Qi)\n",
      " - [2022 December: Palindromes](http://www.usaco.org/index.php?page=viewproblem2&cpid=1262) (Mythreya Dharani and Benjamin Qi)\n",
      " - [2023 January: Tractor Paths](http://www.usaco.org/index.php?page=viewproblem2&cpid=1284) (Benjamin Qi)\n",
      " - [2023 January: Mana Collection](http://www.usaco.org/index.php?page=viewproblem2&cpid=1285) (Benjamin Qi)\n",
      " - [2023 January: Subtree Activation](http://www.usaco.org/index.php?page=viewproblem2&cpid=1286) (Benjamin Qi)\n",
      "\n"
     ]
    }
   ],
   "source": [
    "divisions = ['Bronze', 'Silver', 'Gold', 'Platinum']\n",
    "\n",
    "print(f\"## [USA Computing Olympiad](http://www.usaco.org/)\")\n",
    "print(f\"**Total:** {len(id_to_probs)}\")\n",
    "print()\n",
    "\n",
    "for division in divisions:\n",
    "    probs = [prob for prob in id_to_probs.values() if prob['division'] == division]\n",
    "    print(f\"### {division}\")\n",
    "    print(f\"**Total:** {len(probs)}\")\n",
    "    for prob in probs:\n",
    "        contest = prob['contest']\n",
    "        title = prob['title']\n",
    "        url = prob['url']\n",
    "        creds = prob['creds']\n",
    "        if \" US\" in contest and \" US Open\" not in contest:\n",
    "            contest = contest.replace(\" US\", \" US Open\")\n",
    "        print(f\" - [{contest}: {title}]({url}) ({creds})\")\n",
    "    print()"
   ]
  },
  {
   "cell_type": "code",
   "execution_count": 84,
   "metadata": {},
   "outputs": [
    {
     "data": {
      "text/plain": [
       "54"
      ]
     },
     "execution_count": 84,
     "metadata": {},
     "output_type": "execute_result"
    }
   ],
   "source": [
    "len(matches)"
   ]
  },
  {
   "cell_type": "code",
   "execution_count": 93,
   "metadata": {},
   "outputs": [
    {
     "data": {
      "text/plain": [
       "defaultdict(int,\n",
       "            {('2019', 'December'): 3,\n",
       "             ('2020', 'January'): 2,\n",
       "             ('2020', 'February'): 3,\n",
       "             ('2020', 'US'): 4,\n",
       "             ('2020', 'December'): 7,\n",
       "             ('2021', 'January'): 2,\n",
       "             ('2021', 'February'): 8,\n",
       "             ('2021', 'US'): 8,\n",
       "             ('2021', 'December'): 4,\n",
       "             ('2022', 'January'): 4,\n",
       "             ('2022', 'February'): 5,\n",
       "             ('2022', 'US'): 4})"
      ]
     },
     "execution_count": 93,
     "metadata": {},
     "output_type": "execute_result"
    }
   ],
   "source": [
    "from collections import defaultdict\n",
    "\n",
    "contests = defaultdict(int)\n",
    "divisions = defaultdict(int)\n",
    "\n",
    "for match in matches:\n",
    "    splits = tuple(match[0].split())\n",
    "    contests[splits[1:3]] += 1\n",
    "    divisions[splits[-1]] += 1\n",
    "\n",
    "contests"
   ]
  },
  {
   "cell_type": "code",
   "execution_count": 6,
   "metadata": {},
   "outputs": [
    {
     "name": "stdout",
     "output_type": "stream",
     "text": [
      "True\n"
     ]
    }
   ],
   "source": []
  },
  {
   "cell_type": "code",
   "execution_count": null,
   "metadata": {},
   "outputs": [],
   "source": []
  }
 ],
 "metadata": {
  "kernelspec": {
   "display_name": "USACO",
   "language": "python",
   "name": "python3"
  },
  "language_info": {
   "codemirror_mode": {
    "name": "ipython",
    "version": 3
   },
   "file_extension": ".py",
   "mimetype": "text/x-python",
   "name": "python",
   "nbconvert_exporter": "python",
   "pygments_lexer": "ipython3",
   "version": "3.8.15"
  },
  "orig_nbformat": 4,
  "vscode": {
   "interpreter": {
    "hash": "9d0bee714161d91e1abf107c9e312df2ed8a7e78bea4fcd3934c0a1938d6e63c"
   }
  }
 },
 "nbformat": 4,
 "nbformat_minor": 2
}
